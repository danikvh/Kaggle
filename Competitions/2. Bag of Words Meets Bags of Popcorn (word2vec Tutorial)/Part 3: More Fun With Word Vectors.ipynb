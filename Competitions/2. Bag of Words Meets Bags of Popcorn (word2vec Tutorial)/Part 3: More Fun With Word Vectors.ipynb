{
 "cells": [
  {
   "cell_type": "markdown",
   "metadata": {},
   "source": [
    "### Numeric Representations of Words"
   ]
  },
  {
   "cell_type": "markdown",
   "metadata": {},
   "source": [
    "Now that we have a trained model with some semantic understanding of words, how should we use it? If you look beneath the hood, the Word2Vec model trained in Part 2 consists of a feature vector for each word in the vocabulary, stored in a numpy array called \"syn0\":"
   ]
  },
  {
   "cell_type": "code",
   "execution_count": 17,
   "metadata": {},
   "outputs": [
    {
     "name": "stdout",
     "output_type": "stream",
     "text": [
      "<class 'numpy.ndarray'>\n",
      "(16731, 300)\n"
     ]
    }
   ],
   "source": [
    "# Load the model that we created in Part 2\n",
    "from gensim.models import Word2Vec\n",
    "model = Word2Vec.load(\"300features_40minwords_10context\")\n",
    "\n",
    "print(type(model.wv.vectors))\n",
    "print(model.wv.vectors.shape)\n",
    "num_features = model.wv.vectors.shape[1]"
   ]
  },
  {
   "cell_type": "markdown",
   "metadata": {},
   "source": [
    "The number of rows in syn0 is the number of words in the model's vocabulary, and the number of columns corresponds to the size of the feature vector, which we set in Part 2.  Setting the minimum word count to 40 gave us a total vocabulary of 16,492 words with 300 features apiece. Individual word vectors can be accessed in the following way:"
   ]
  },
  {
   "cell_type": "code",
   "execution_count": 11,
   "metadata": {},
   "outputs": [
    {
     "name": "stdout",
     "output_type": "stream",
     "text": [
      "[-4.20134924e-02  3.60198654e-02 -3.33765149e-03  1.28171355e-01\n",
      " -4.40217890e-02 -6.22571707e-02  2.09576469e-02 -2.53800284e-02\n",
      "  1.40598984e-02 -6.35187253e-02  7.11853430e-02 -3.78291011e-02\n",
      "  1.74457002e-02 -5.65691758e-03  7.54684433e-02 -1.91215822e-03\n",
      " -3.08252149e-03 -1.70492008e-01  5.81748076e-02  1.23894205e-02\n",
      "  3.40324603e-02  3.09819914e-03 -4.90646660e-02  4.61165458e-02\n",
      "  5.01128025e-02 -8.25640261e-02 -1.54856034e-02  9.73292366e-02\n",
      " -3.08655482e-02 -3.43876220e-02  1.02941401e-01  2.44280770e-02\n",
      " -5.67220785e-02 -5.59878675e-03 -3.82934250e-02 -1.49657391e-02\n",
      " -1.39366183e-02 -5.80991805e-02  6.96289316e-02 -6.12199865e-03\n",
      " -3.51328366e-02  8.86108354e-02  1.83406815e-01  4.97081913e-02\n",
      " -3.02798133e-02 -6.23607039e-02  4.16065082e-02 -6.63030297e-02\n",
      "  3.91652882e-02  4.38476503e-02  1.33932933e-01 -3.75898853e-02\n",
      " -8.45657960e-02 -3.59409042e-02 -5.29844761e-02  2.67198272e-02\n",
      "  3.51504833e-02 -2.44257320e-02 -4.38145660e-02 -2.46757213e-02\n",
      " -8.94182995e-02  1.22182980e-01 -6.40317518e-03  5.22855148e-02\n",
      " -8.04115012e-02  7.62972236e-02 -3.55741493e-02  8.41762200e-02\n",
      " -3.31984684e-02  3.91052626e-02  7.08636343e-02  1.52016832e-02\n",
      "  3.58872972e-02 -2.38935258e-02  6.60430698e-04 -5.75037710e-02\n",
      " -3.06848506e-03  5.91570884e-02 -6.00495078e-02  1.46937922e-01\n",
      "  5.02171107e-02  6.50977076e-04  4.94955981e-04  1.39328614e-01\n",
      " -5.41083328e-03 -3.59509327e-02  2.30789687e-02 -2.16414668e-02\n",
      "  1.32453918e-01  2.49977149e-02 -2.09575463e-02 -6.21593520e-02\n",
      " -2.53039189e-02 -2.33729258e-02  7.96381533e-02 -7.18375519e-02\n",
      "  2.44321916e-02  3.79723520e-03 -1.63363218e-01  3.87115255e-02\n",
      "  7.23119453e-02  2.68924050e-02 -2.65306029e-02 -5.14043942e-02\n",
      " -1.47635434e-02 -2.58885361e-02 -3.87831181e-02 -2.09361911e-02\n",
      "  3.88314798e-02 -7.95896258e-03  9.82169062e-03 -5.18133715e-02\n",
      "  3.73943965e-03  4.23018597e-02  1.09945890e-02  2.08934098e-02\n",
      "  1.38740957e-04  6.96485639e-02  5.33609726e-02 -8.24408457e-02\n",
      " -1.14430329e-02  9.47286189e-03  1.14322584e-02 -4.46718215e-04\n",
      " -3.67049016e-02 -1.16833281e-02 -8.67425092e-03  2.34930450e-03\n",
      "  4.35772575e-02 -1.55308247e-02 -4.91560921e-02  4.73309681e-02\n",
      " -9.43827778e-02  1.26685612e-02  1.91362128e-02  3.38911777e-03\n",
      "  1.89752333e-04  4.41906959e-05 -4.34861556e-02  1.49245374e-02\n",
      " -2.35681310e-02 -2.05491576e-02 -4.26259264e-02  1.67782512e-02\n",
      " -1.17345722e-02 -3.05864438e-02 -1.60033092e-01 -7.28652999e-02\n",
      "  6.40110597e-02  2.24730726e-02  3.57856825e-02 -5.83013706e-02\n",
      " -8.13607946e-02 -2.36549750e-02  1.19256359e-02  2.10492108e-02\n",
      " -1.21723615e-01 -7.82108381e-02 -9.90022868e-02  1.04636312e-01\n",
      "  8.40043202e-02  5.20398021e-02 -3.17339040e-02  1.36339501e-01\n",
      " -1.06176198e-01 -7.57758645e-03  1.05945498e-01 -5.84998466e-02\n",
      "  7.16932397e-03  9.68318731e-02  2.19225660e-02 -5.58547908e-03\n",
      "  4.32767794e-02 -4.63930592e-02 -4.25869711e-02  1.34136463e-02\n",
      "  4.55112047e-02 -5.59239425e-02  1.52334962e-02 -9.78962984e-03\n",
      "  3.80291458e-04  4.80134450e-02  7.64824171e-03 -3.45369056e-02\n",
      " -7.42934048e-02  6.43523932e-02  9.25586298e-02  8.31393674e-02\n",
      "  6.61740303e-02 -4.57159281e-02 -4.62061837e-02 -5.49224205e-05\n",
      " -3.86811933e-03 -3.68937850e-02 -1.47434650e-02 -4.55283336e-02\n",
      " -4.24313881e-02 -3.57475877e-02  6.30638525e-02 -9.79523957e-02\n",
      " -7.94285610e-02  8.00166503e-02  1.37796272e-02 -3.38943340e-02\n",
      " -5.81451459e-03  4.46201339e-02  3.90830599e-02  8.57832953e-02\n",
      "  1.28907645e-02  7.58858537e-03  1.40486017e-01 -3.49623077e-02\n",
      " -4.70754504e-02 -4.17603664e-02  3.67092788e-02  3.03596929e-02\n",
      " -9.37958956e-02 -1.71007633e-01  1.80610213e-02 -4.02077064e-02\n",
      "  7.77634978e-02  9.45960209e-02  2.20640772e-03 -1.07872579e-02\n",
      " -1.33969158e-01  1.30870724e-02 -7.29075596e-02 -2.43014079e-02\n",
      " -5.21311350e-02 -1.74947642e-02 -3.55730429e-02  1.94852962e-03\n",
      " -7.94710517e-02 -7.64588192e-02  2.58592460e-02  6.51313588e-02\n",
      "  5.52390851e-02  5.95852323e-02  4.23065200e-02 -3.29835974e-02\n",
      "  7.50473142e-02 -2.41799783e-02 -5.96367158e-02  4.39641401e-02\n",
      " -1.01310220e-02 -1.22542458e-03  2.47983932e-02  2.46451739e-02\n",
      " -5.92909120e-02  1.26137987e-01  5.34143597e-02  1.62329953e-02\n",
      "  3.30371112e-02 -7.07993433e-02 -3.67337987e-02 -4.69703004e-02\n",
      "  7.08668903e-02  3.37903164e-02  1.95085667e-02  9.22598556e-05\n",
      " -4.55548801e-02 -3.79653834e-02  4.27553942e-03 -6.45060986e-02\n",
      "  2.05138270e-02  3.18554766e-03 -1.68693308e-02  8.70743617e-02\n",
      "  6.29396886e-02 -6.58126473e-02 -3.48846577e-02  4.15249430e-02\n",
      " -7.40649253e-02 -2.53498498e-02  7.12245330e-02 -3.25701833e-02\n",
      "  1.08448071e-02 -1.97157562e-02 -2.18503736e-02  2.39324812e-02\n",
      "  8.00560974e-03 -3.41624320e-02 -1.36829056e-02  1.17449528e-02\n",
      " -2.52782591e-02 -9.65379700e-02 -2.67451610e-02  2.53868084e-02\n",
      " -1.10658398e-02  3.53321284e-02 -1.28579646e-01 -3.83157879e-02\n",
      "  1.48847047e-02  2.76700333e-02  1.21602148e-01  1.07992321e-01\n",
      " -5.86814992e-02  1.90752116e-03  3.21195871e-02 -1.63505983e-03]\n"
     ]
    }
   ],
   "source": [
    "print(model.wv[\"flower\"])"
   ]
  },
  {
   "cell_type": "markdown",
   "metadata": {},
   "source": [
    "### From Words To Paragraphs, Attempt 1: Vector Averaging"
   ]
  },
  {
   "cell_type": "markdown",
   "metadata": {},
   "source": [
    "One challenge with the IMDB dataset is the variable-length reviews. We need to find a way to take individual word vectors and transform them into a feature set that is the same length for every review.\n",
    "\n",
    "Since each word is a vector in 300-dimensional space, we can use vector operations to combine the words in each review. One method we tried was to simply average the word vectors in a given review (for this purpose, we removed stop words, which would just add noise).\n",
    "\n",
    "The following code averages the feature vectors, building on our code from Part 2. "
   ]
  },
  {
   "cell_type": "code",
   "execution_count": 32,
   "metadata": {},
   "outputs": [],
   "source": [
    "import numpy as np  # Make sure that numpy is imported\n",
    "\n",
    "def makeFeatureVec(words, model, num_features):\n",
    "    # Function to average all of the word vectors in a given paragraph\n",
    "    \n",
    "    # Pre-initialize an empty numpy array (for speed)\n",
    "    featureVec = np.zeros((num_features,),dtype=\"float32\")\n",
    "    nwords = 0.\n",
    "    \n",
    "    # Index2word is a list that contains the names of the words in the model's vocabulary. Convert it to a set, for speed \n",
    "    index2word_set = set(model.wv.index_to_key)\n",
    "    \n",
    "    # Loop over each word in the review and, if it is in the model's vocaublary, add its feature vector to the total\n",
    "    for word in words:\n",
    "        if word in index2word_set: \n",
    "            nwords = nwords + 1.\n",
    "            featureVec = np.add(featureVec,model.wv[word])\n",
    "    \n",
    "    # Divide the result by the number of words to get the average\n",
    "    featureVec = np.divide(featureVec,nwords)\n",
    "    return featureVec\n",
    "\n",
    "\n",
    "def getAvgFeatureVecs(reviews, model, num_features):\n",
    "    # Given a set of reviews (each one a list of words), calculate the average feature vector for each one and return a 2D numpy array \n",
    "     \n",
    "    # Initialize a counter\n",
    "    counter = 0\n",
    "    \n",
    "    # Preallocate a 2D numpy array, for speed\n",
    "    reviewFeatureVecs = np.zeros((len(reviews),num_features),dtype=\"float32\")\n",
    "    \n",
    "    # Loop through the reviews\n",
    "    for review in reviews:\n",
    "       \n",
    "       # Print a status message every 1000th review\n",
    "       if counter%1000. == 0.:\n",
    "           print(\"Review %d of %d\" % (counter, len(reviews)))\n",
    "       \n",
    "       # Call the function (defined above) that makes average feature vectors\n",
    "       reviewFeatureVecs[counter] = makeFeatureVec(review, model, num_features)\n",
    "       \n",
    "       # Increment the counter\n",
    "       counter = counter + 1\n",
    "    return reviewFeatureVecs"
   ]
  },
  {
   "cell_type": "markdown",
   "metadata": {},
   "source": [
    "Funciones de la parte 2:"
   ]
  },
  {
   "cell_type": "code",
   "execution_count": 15,
   "metadata": {},
   "outputs": [],
   "source": [
    "# Import various modules for string cleaning\n",
    "from bs4 import BeautifulSoup\n",
    "import re\n",
    "from nltk.corpus import stopwords\n",
    "\n",
    "def review_to_wordlist( review, remove_stopwords=False ):\n",
    "    # Function to convert a document to a sequence of words,\n",
    "    # optionally removing stop words.  Returns a list of words.\n",
    "    #\n",
    "    # 1. Remove HTML\n",
    "    review_text = BeautifulSoup(review).get_text()\n",
    "    #  \n",
    "    # 2. Remove non-letters\n",
    "    review_text = re.sub(\"[^a-zA-Z0-9]\",\" \", review_text)\n",
    "    #\n",
    "    # 3. Convert words to lower case and split them\n",
    "    words = review_text.lower().split()\n",
    "    #\n",
    "    # 4. Optionally remove stop words (false by default)\n",
    "    if remove_stopwords:\n",
    "        stops = set(stopwords.words(\"english\"))\n",
    "        words = [w for w in words if not w in stops]\n",
    "    #\n",
    "    # 5. Return a list of words\n",
    "    return(words)\n",
    "\n",
    "\n",
    "\n",
    "\n",
    "# Download the punkt tokenizer for sentence splitting\n",
    "import nltk.data\n",
    "#nltk.download()   \n",
    "\n",
    "# Load the punkt tokenizer\n",
    "tokenizer = nltk.data.load('tokenizers/punkt/english.pickle')\n",
    "\n",
    "# Define a function to split a review into parsed sentences\n",
    "def review_to_sentences( review, tokenizer, remove_stopwords=False ):\n",
    "    # Function to split a review into parsed sentences. Returns a \n",
    "    # list of sentences, where each sentence is a list of words\n",
    "    #\n",
    "    # 1. Use the NLTK tokenizer to split the paragraph into sentences\n",
    "    raw_sentences = tokenizer.tokenize(review.strip())\n",
    "    #\n",
    "    # 2. Loop over each sentence\n",
    "    sentences = []\n",
    "    for raw_sentence in raw_sentences:\n",
    "        # If a sentence is empty, skip it\n",
    "        if len(raw_sentence) > 0:\n",
    "            # Otherwise, call review_to_wordlist to get a list of words\n",
    "            sentences.append(review_to_wordlist(raw_sentence, remove_stopwords))\n",
    "    #\n",
    "    # Return the list of sentences (each sentence is a list of words,\n",
    "    # so thiseviewFeatureVecs[counter] = makeFeatureVec(review, model, num_features) returns a list of lists\n",
    "    return sentences"
   ]
  },
  {
   "cell_type": "markdown",
   "metadata": {},
   "source": [
    "Now, we can call these functions to create average vectors for each paragraph. The following operations will take a few minutes:"
   ]
  },
  {
   "cell_type": "code",
   "execution_count": 33,
   "metadata": {},
   "outputs": [
    {
     "name": "stderr",
     "output_type": "stream",
     "text": [
      "/tmp/ipykernel_1971374/1616213811.py:11: MarkupResemblesLocatorWarning: The input looks more like a filename than markup. You may want to open this file and pass the filehandle into Beautiful Soup.\n",
      "  review_text = BeautifulSoup(review).get_text()\n"
     ]
    },
    {
     "name": "stdout",
     "output_type": "stream",
     "text": [
      "Review 0 of 25000\n",
      "Review 1000 of 25000\n",
      "Review 2000 of 25000\n",
      "Review 3000 of 25000\n",
      "Review 4000 of 25000\n",
      "Review 5000 of 25000\n",
      "Review 6000 of 25000\n",
      "Review 7000 of 25000\n",
      "Review 8000 of 25000\n",
      "Review 9000 of 25000\n",
      "Review 10000 of 25000\n",
      "Review 11000 of 25000\n",
      "Review 12000 of 25000\n",
      "Review 13000 of 25000\n",
      "Review 14000 of 25000\n",
      "Review 15000 of 25000\n",
      "Review 16000 of 25000\n",
      "Review 17000 of 25000\n",
      "Review 18000 of 25000\n",
      "Review 19000 of 25000\n",
      "Review 20000 of 25000\n",
      "Review 21000 of 25000\n",
      "Review 22000 of 25000\n",
      "Review 23000 of 25000\n",
      "Review 24000 of 25000\n",
      "Creating average feature vecs for test reviews\n",
      "Review 0 of 25000\n",
      "Review 1000 of 25000\n",
      "Review 2000 of 25000\n",
      "Review 3000 of 25000\n",
      "Review 4000 of 25000\n",
      "Review 5000 of 25000\n",
      "Review 6000 of 25000\n",
      "Review 7000 of 25000\n",
      "Review 8000 of 25000\n",
      "Review 9000 of 25000\n",
      "Review 10000 of 25000\n",
      "Review 11000 of 25000\n",
      "Review 12000 of 25000\n",
      "Review 13000 of 25000\n",
      "Review 14000 of 25000\n",
      "Review 15000 of 25000\n",
      "Review 16000 of 25000\n",
      "Review 17000 of 25000\n",
      "Review 18000 of 25000\n",
      "Review 19000 of 25000\n",
      "Review 20000 of 25000\n",
      "Review 21000 of 25000\n",
      "Review 22000 of 25000\n",
      "Review 23000 of 25000\n",
      "Review 24000 of 25000\n"
     ]
    }
   ],
   "source": [
    "# ****************************************************************\n",
    "# Calculate average feature vectors for training and testing sets,\n",
    "# using the functions we defined above. Notice that we now use stop word\n",
    "# removal.\n",
    "\n",
    "\n",
    "import pandas as pd\n",
    "# Read data from files\n",
    "train = pd.read_csv( \"labeledTrainData.tsv\", header=0, delimiter=\"\\t\", quoting=3 )\n",
    "test = pd.read_csv( \"testData.tsv\", header=0, delimiter=\"\\t\", quoting=3 )\n",
    "\n",
    "clean_train_reviews = []\n",
    "for review in train[\"review\"]:\n",
    "    clean_train_reviews.append( review_to_wordlist( review, remove_stopwords=True ))\n",
    "\n",
    "trainDataVecs = getAvgFeatureVecs( clean_train_reviews, model, num_features )\n",
    "\n",
    "print(\"Creating average feature vecs for test reviews\")\n",
    "clean_test_reviews = []\n",
    "for review in test[\"review\"]:\n",
    "    clean_test_reviews.append( review_to_wordlist( review, remove_stopwords=True ))\n",
    "\n",
    "testDataVecs = getAvgFeatureVecs( clean_test_reviews, model, num_features )"
   ]
  },
  {
   "cell_type": "markdown",
   "metadata": {},
   "source": [
    "Next, use the average paragraph vectors to train a random forest. Note that, as in Part 1, we can only use the labeled training reviews to train the model. "
   ]
  },
  {
   "cell_type": "code",
   "execution_count": 34,
   "metadata": {},
   "outputs": [
    {
     "name": "stdout",
     "output_type": "stream",
     "text": [
      "Fitting a random forest to labeled training data...\n"
     ]
    }
   ],
   "source": [
    "# Fit a random forest to the training data, using 100 trees\n",
    "from sklearn.ensemble import RandomForestClassifier\n",
    "forest = RandomForestClassifier( n_estimators = 100 )\n",
    "\n",
    "print(\"Fitting a random forest to labeled training data...\")\n",
    "forest = forest.fit(trainDataVecs, train[\"sentiment\"] )\n",
    "\n",
    "# Test & extract results \n",
    "result = forest.predict(testDataVecs)\n",
    "\n",
    "# Write the test results \n",
    "output = pd.DataFrame( data={\"id\":test[\"id\"], \"sentiment\":result} )\n",
    "output.to_csv( \"Word2Vec_AverageVectors.csv\", index=False, quoting=3 )"
   ]
  },
  {
   "cell_type": "markdown",
   "metadata": {},
   "source": [
    "We found that this produced results much better than chance, but underperformed Bag of Words by a few percentage points.\n",
    "\n",
    "Since the element-wise average of the vectors didn't produce spectacular results, perhaps we could do it in a more intelligent way? A standard way of weighting word vectors is to apply \"tf-idf\" weights, which measure how important a given word is within a given set of documents. One way to extract tf-idf weights in Python is by using scikit-learn's TfidfVectorizer, which has an interface similar to the CountVectorizer that we used in Part 1. However, when we tried weighting our word vectors in this way, we found no substantial improvement in performance."
   ]
  },
  {
   "cell_type": "markdown",
   "metadata": {},
   "source": [
    "### From Words to Paragraphs, Attempt 2: Clustering "
   ]
  },
  {
   "cell_type": "markdown",
   "metadata": {},
   "source": [
    "Word2Vec creates clusters of semantically related words, so another possible approach is to exploit the similarity of words within a cluster. Grouping vectors in this way is known as \"vector quantization.\" To accomplish this, we first need to find the centers of the word clusters, which we can do by using a clustering algorithm such as K-Means.\n",
    "\n",
    "In K-Means, the one parameter we need to set is \"K,\" or the number of clusters. How should we decide how many clusters to create? Trial and error suggested that small clusters, with an average of only 5 words or so per cluster, gave better results than large clusters with many words. Clustering code is given below. We use scikit-learn to perform our K-Means.\n",
    "\n",
    "K-Means clustering with large K can be very slow; the following code took more than 40 minutes on my computer. Below, we set a timer around the K-Means function to see how long it takes."
   ]
  },
  {
   "cell_type": "code",
   "execution_count": 37,
   "metadata": {},
   "outputs": [
    {
     "name": "stderr",
     "output_type": "stream",
     "text": [
      "/home/dkvichun/miniconda3/envs/all/lib/python3.10/site-packages/sklearn/cluster/_kmeans.py:1412: FutureWarning: The default value of `n_init` will change from 10 to 'auto' in 1.4. Set the value of `n_init` explicitly to suppress the warning\n",
      "  super()._check_params_vs_input(X, default_n_init=10)\n"
     ]
    },
    {
     "name": "stdout",
     "output_type": "stream",
     "text": [
      "Time taken for K Means clustering:  394.0619378089905 seconds.\n"
     ]
    }
   ],
   "source": [
    "from sklearn.cluster import KMeans\n",
    "import time\n",
    "\n",
    "start = time.time() # Start time\n",
    "\n",
    "# Set \"k\" (num_clusters) to be 1/5th of the vocabulary size, or an\n",
    "# average of 5 words per cluster\n",
    "word_vectors = model.wv.vectors\n",
    "num_clusters = word_vectors.shape[0] // 5\n",
    "\n",
    "# Initalize a k-means object and use it to extract centroids\n",
    "kmeans_clustering = KMeans( n_clusters = num_clusters )\n",
    "idx = kmeans_clustering.fit_predict( word_vectors )\n",
    "\n",
    "# Get the end time and print how long the process took\n",
    "end = time.time()\n",
    "elapsed = end - start\n",
    "print(\"Time taken for K Means clustering: \", elapsed, \"seconds.\")"
   ]
  },
  {
   "cell_type": "markdown",
   "metadata": {},
   "source": [
    "The cluster assignment for each word is now stored in idx, and the vocabulary from our original Word2Vec model is still stored in model.index2word. For convenience, we zip these into one dictionary as follows:"
   ]
  },
  {
   "cell_type": "code",
   "execution_count": 47,
   "metadata": {},
   "outputs": [],
   "source": [
    "# Create a Word / Index dictionary, mapping each vocabulary word to a cluster number                                                                                            \n",
    "word_centroid_map = dict(zip( model.wv.index_to_key, idx))"
   ]
  },
  {
   "cell_type": "markdown",
   "metadata": {},
   "source": [
    "This is a little abstract, so let's take a closer look at what our clusters contain. Your clusters may differ, as Word2Vec relies on a random number seed. Here is a loop that prints out the words for clusters 0 through 9:"
   ]
  },
  {
   "cell_type": "code",
   "execution_count": 53,
   "metadata": {},
   "outputs": [
    {
     "name": "stdout",
     "output_type": "stream",
     "text": [
      "\n",
      "Cluster 0\n",
      "['saber']\n",
      "\n",
      "Cluster 1\n",
      "['dwight', 'timberlake', 'lamas', 'novello', 'melinda', 'gruner', 'strode', 'shaq']\n",
      "\n",
      "Cluster 2\n",
      "['increase', 'increased']\n",
      "\n",
      "Cluster 3\n",
      "['suicide', 'witness', 'committed', 'guilty', 'crimes', 'commit', 'commits', 'witnessing', 'committing']\n",
      "\n",
      "Cluster 4\n",
      "['cellar', 'bushes']\n",
      "\n",
      "Cluster 5\n",
      "['mediocre', 'dreadful', 'horrendous', 'horrid', 'dire', 'worthless', 'appalling', 'abysmal', 'wretched', 'pitiful', 'shoddy', 'dismal', 'shameful', 'abominable', 'substandard', 'disgraceful', 'godawful']\n",
      "\n",
      "Cluster 6\n",
      "['legend']\n",
      "\n",
      "Cluster 7\n",
      "['snob', 'cranky']\n",
      "\n",
      "Cluster 8\n",
      "['evolution']\n",
      "\n",
      "Cluster 9\n",
      "['firm', 'frequency']\n"
     ]
    }
   ],
   "source": [
    "# For the first 10 clusters\n",
    "for cluster in range(0,10):\n",
    "    \n",
    "    # Print the cluster number  \n",
    "    print(\"\\nCluster %d\" % cluster)\n",
    "    \n",
    "    # Find all of the words for that cluster number, and print them out\n",
    "    words = []\n",
    "\n",
    "    for key, value in word_centroid_map.items():\n",
    "        if value == cluster:\n",
    "            words.append(key)\n",
    "\n",
    "    print(words)"
   ]
  },
  {
   "cell_type": "markdown",
   "metadata": {},
   "source": [
    "We can see that the clusters are of varying quality. Some make sense - Cluster 3 mostly contains names, and Clusters 6-8 contain related adjectives (Cluster 6 is my favorite). On the other hand, Cluster 5 is a little mystifying: What do a lobster and a deer have in common (besides being two animals)? Cluster 0 is even worse: Penthouses and suites seem to belong together, but they don't seem to belong with apples and passports. Cluster 2 contains ... maybe war-related words? Perhaps our algorithm works best on adjectives.\n",
    "\n",
    "At any rate, now we have a cluster (or \"centroid\") assignment for each word, and we can define a function to convert reviews into bags-of-centroids. This works just like Bag of Words but uses semantically related clusters instead of individual words:"
   ]
  },
  {
   "cell_type": "code",
   "execution_count": 54,
   "metadata": {},
   "outputs": [],
   "source": [
    "def create_bag_of_centroids( wordlist, word_centroid_map ):\n",
    "    \n",
    "    # The number of clusters is equal to the highest cluster index\n",
    "    # in the word / centroid map\n",
    "    num_centroids = max( word_centroid_map.values() ) + 1\n",
    "    \n",
    "    # Pre-allocate the bag of centroids vector (for speed)\n",
    "    bag_of_centroids = np.zeros( num_centroids, dtype=\"float32\" )\n",
    "    \n",
    "    # Loop over the words in the review. If the word is in the vocabulary,\n",
    "    # find which cluster it belongs to, and increment that cluster count \n",
    "    # by one\n",
    "    for word in wordlist:\n",
    "        if word in word_centroid_map:\n",
    "            index = word_centroid_map[word]\n",
    "            bag_of_centroids[index] += 1\n",
    "    \n",
    "    # Return the \"bag of centroids\"\n",
    "    return bag_of_centroids"
   ]
  },
  {
   "cell_type": "markdown",
   "metadata": {},
   "source": [
    "The function above will give us a numpy array for each review, each with a number of features equal to the number of clusters. Finally, we create bags of centroids for our training and test set, then train a random forest and extract results:"
   ]
  },
  {
   "cell_type": "code",
   "execution_count": 55,
   "metadata": {},
   "outputs": [],
   "source": [
    "# Pre-allocate an array for the training set bags of centroids (for speed)\n",
    "train_centroids = np.zeros( (train[\"review\"].size, num_clusters), dtype=\"float32\" )\n",
    "\n",
    "# Transform the training set reviews into bags of centroids\n",
    "counter = 0\n",
    "for review in clean_train_reviews:\n",
    "    train_centroids[counter] = create_bag_of_centroids( review, word_centroid_map )\n",
    "    counter += 1\n",
    "\n",
    "# Repeat for test reviews \n",
    "test_centroids = np.zeros(( test[\"review\"].size, num_clusters), dtype=\"float32\" )\n",
    "\n",
    "counter = 0\n",
    "for review in clean_test_reviews:\n",
    "    test_centroids[counter] = create_bag_of_centroids( review, word_centroid_map )\n",
    "    counter += 1"
   ]
  },
  {
   "cell_type": "code",
   "execution_count": 56,
   "metadata": {},
   "outputs": [
    {
     "name": "stdout",
     "output_type": "stream",
     "text": [
      "Fitting a random forest to labeled training data...\n"
     ]
    }
   ],
   "source": [
    "# Fit a random forest and extract predictions \n",
    "forest = RandomForestClassifier(n_estimators = 100)\n",
    "\n",
    "# Fitting the forest may take a few minutes\n",
    "print(\"Fitting a random forest to labeled training data...\")\n",
    "forest = forest.fit(train_centroids,train[\"sentiment\"])\n",
    "result = forest.predict(test_centroids)\n",
    "\n",
    "# Write the test results \n",
    "output = pd.DataFrame(data={\"id\":test[\"id\"], \"sentiment\":result})\n",
    "output.to_csv( \"BagOfCentroids.csv\", index=False, quoting=3 )"
   ]
  }
 ],
 "metadata": {
  "kernelspec": {
   "display_name": "all",
   "language": "python",
   "name": "python3"
  },
  "language_info": {
   "codemirror_mode": {
    "name": "ipython",
    "version": 3
   },
   "file_extension": ".py",
   "mimetype": "text/x-python",
   "name": "python",
   "nbconvert_exporter": "python",
   "pygments_lexer": "ipython3",
   "version": "3.10.13"
  }
 },
 "nbformat": 4,
 "nbformat_minor": 2
}
