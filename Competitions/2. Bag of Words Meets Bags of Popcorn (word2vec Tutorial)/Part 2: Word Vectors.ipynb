{
 "cells": [
  {
   "cell_type": "markdown",
   "metadata": {},
   "source": [
    "## Introducing Distributed Word Vectors"
   ]
  },
  {
   "cell_type": "markdown",
   "metadata": {},
   "source": [
    "This part of the tutorial will focus on using distributed word vectors created by the Word2Vec algorithm. (For an overview of deep learning, as well as pointers to some additional tutorials, see the \"What is Deep Learning?\" page).\n",
    "\n",
    "Parts 2 and 3 assume more familiarity with Python than Part 1. We developed the following code on a dual-core Macbook Pro, however, we have not yet run the code successfully on Windows. If you are a Windows user and you get it working, please leave a note on how you did it in the forum! For more detail, see the \"Setting Up Your System\" page.\n",
    "\n",
    "Word2vec, published by Google in 2013, is a neural network implementation that learns distributed representations for words. Other deep or recurrent neural network architectures had been proposed for learning word representations prior to this, but the major problem with these was the long time required to train the models. Word2vec learns quickly relative to other models.\n",
    "\n",
    "Word2Vec does not need labels in order to create meaningful representations. This is useful, since most data in the real world is unlabeled. If the network is given enough training data (tens of billions of words), it produces word vectors with intriguing characteristics. Words with similar meanings appear in clusters, and clusters are spaced such that some word relationships, such as analogies, can be reproduced using vector math. The famous example is that, with highly trained word vectors, \"king - man + woman = queen.\"\n",
    "\n",
    "Check out Google's code, writeup, and the accompanying papers. This presentation is also helpful. The original code is in C, but it has since been ported to other languages, including Python. We encourage you to play with the original C tool, but be warned that it is not user-friendly if you are a beginning programmer (we had to manually edit the header files to compile it).\n",
    "\n",
    "Recent work out of Stanford has also applied deep learning to sentiment analysis; their code is available in Java. However, their approach, which relies on sentence parsing, cannot be applied in a straightforward way to paragraphs of arbitrary length.\n",
    "\n",
    "Distributed word vectors are powerful and can be used for many applications, particularly word prediction and translation. Here, we will try to apply them to sentiment analysis."
   ]
  },
  {
   "cell_type": "markdown",
   "metadata": {},
   "source": [
    "### Using word2vec in Python"
   ]
  },
  {
   "cell_type": "markdown",
   "metadata": {},
   "source": [
    "In Python, we will use the excellent implementation of word2vec from the gensim package. If you don't already have gensim installed, you'll need to install it. There is an excellent tutorial that accompanies the Python Word2Vec implementation, here.\n",
    "\n",
    "Although Word2Vec does not require graphics processing units (GPUs) like many deep learning algorithms, it is compute intensive. Both Google's version and the Python version rely on multi-threading (running multiple processes in parallel on your computer to save time). ln order to train your model in a reasonable amount of time, you will need to install cython (instructions here). Word2Vec will run without cython installed, but it will take days to run instead of minutes."
   ]
  },
  {
   "cell_type": "markdown",
   "metadata": {},
   "source": [
    "### Preparing to Train a Model\n",
    "\n"
   ]
  },
  {
   "cell_type": "markdown",
   "metadata": {},
   "source": [
    "Now down to the nitty-gritty! First, we read in the data with pandas, as we did in Part 1. Unlike Part 1, we now use unlabeledTrain.tsv, which contains 50,000 additional reviews with no labels. When we built the Bag of Words model in Part 1, extra unlabeled training reviews were not useful. However, since Word2Vec can learn from unlabeled data, these extra 50,000 reviews can now be used."
   ]
  },
  {
   "cell_type": "code",
   "execution_count": 3,
   "metadata": {},
   "outputs": [
    {
     "name": "stdout",
     "output_type": "stream",
     "text": [
      "Read 25000 labeled train reviews, 25000 labeled test reviews, and 50000 unlabeled reviews\n",
      "\n"
     ]
    }
   ],
   "source": [
    "import pandas as pd\n",
    "\n",
    "# Read data from files \n",
    "train = pd.read_csv( \"labeledTrainData.tsv\", header=0, delimiter=\"\\t\", quoting=3 )\n",
    "test = pd.read_csv( \"testData.tsv\", header=0, delimiter=\"\\t\", quoting=3 )\n",
    "unlabeled_train = pd.read_csv( \"unlabeledTrainData.tsv\", header=0, delimiter=\"\\t\", quoting=3 )\n",
    "\n",
    "# Verify the number of reviews that were read (100,000 in total)\n",
    "print(\"Read %d labeled train reviews, %d labeled test reviews, and %d unlabeled reviews\\n\" % (train[\"review\"].size,  \n",
    "    test[\"review\"].size, unlabeled_train[\"review\"].size ))"
   ]
  },
  {
   "cell_type": "markdown",
   "metadata": {},
   "source": [
    "The functions we write to clean the data are also similar to Part 1, although now there are a couple of differences. First, to train Word2Vec it is better not to remove stop words because the algorithm relies on the broader context of the sentence in order to produce high-quality word vectors. For this reason, we will make stop word removal optional in the functions below. It also might be better not to remove numbers, but we leave that as an exercise for the reader."
   ]
  },
  {
   "cell_type": "code",
   "execution_count": 4,
   "metadata": {},
   "outputs": [],
   "source": [
    "# Import various modules for string cleaning\n",
    "from bs4 import BeautifulSoup\n",
    "import re\n",
    "from nltk.corpus import stopwords\n",
    "\n",
    "def review_to_wordlist( review, remove_stopwords=False ):\n",
    "    # Function to convert a document to a sequence of words,\n",
    "    # optionally removing stop words.  Returns a list of words.\n",
    "    #\n",
    "    # 1. Remove HTML\n",
    "    review_text = BeautifulSoup(review).get_text()\n",
    "    #  \n",
    "    # 2. Remove non-letters\n",
    "    review_text = re.sub(\"[^a-zA-Z0-9]\",\" \", review_text)\n",
    "    #\n",
    "    # 3. Convert words to lower case and split them\n",
    "    words = review_text.lower().split()\n",
    "    #\n",
    "    # 4. Optionally remove stop words (false by default)\n",
    "    if remove_stopwords:\n",
    "        stops = set(stopwords.words(\"english\"))\n",
    "        words = [w for w in words if not w in stops]\n",
    "    #\n",
    "    # 5. Return a list of words\n",
    "    return(words)"
   ]
  },
  {
   "cell_type": "markdown",
   "metadata": {},
   "source": [
    "Next, we want a specific input format. Word2Vec expects single sentences, each one as a list of words. In other words, the input format is a list of lists.\n",
    "\n",
    "It is not at all straightforward how to split a paragraph into sentences. There are all kinds of gotchas in natural language. English sentences can end with \"?\", \"!\", \"\"\", or \".\", among other things, and spacing and capitalization are not reliable guides either. For this reason, we'll use NLTK's punkt tokenizer for sentence splitting. In order to use this, you will need to install NLTK and use nltk.download() to download the relevant training file for punkt."
   ]
  },
  {
   "cell_type": "code",
   "execution_count": 7,
   "metadata": {},
   "outputs": [],
   "source": [
    "# Download the punkt tokenizer for sentence splitting\n",
    "import nltk.data\n",
    "#nltk.download()   \n",
    "\n",
    "# Load the punkt tokenizer\n",
    "tokenizer = nltk.data.load('tokenizers/punkt/english.pickle')\n",
    "\n",
    "# Define a function to split a review into parsed sentences\n",
    "def review_to_sentences( review, tokenizer, remove_stopwords=False ):\n",
    "    # Function to split a review into parsed sentences. Returns a \n",
    "    # list of sentences, where each sentence is a list of words\n",
    "    #\n",
    "    # 1. Use the NLTK tokenizer to split the paragraph into sentences\n",
    "    raw_sentences = tokenizer.tokenize(review.strip())\n",
    "    #\n",
    "    # 2. Loop over each sentence\n",
    "    sentences = []\n",
    "    for raw_sentence in raw_sentences:\n",
    "        # If a sentence is empty, skip it\n",
    "        if len(raw_sentence) > 0:\n",
    "            # Otherwise, call review_to_wordlist to get a list of words\n",
    "            sentences.append(review_to_wordlist(raw_sentence, remove_stopwords))\n",
    "    #\n",
    "    # Return the list of sentences (each sentence is a list of words,\n",
    "    # so this returns a list of lists\n",
    "    return sentences"
   ]
  },
  {
   "cell_type": "markdown",
   "metadata": {},
   "source": [
    "Now we can apply this function to prepare our data for input to Word2Vec (this will take a couple minutes):"
   ]
  },
  {
   "cell_type": "code",
   "execution_count": 8,
   "metadata": {},
   "outputs": [
    {
     "name": "stdout",
     "output_type": "stream",
     "text": [
      "Parsing sentences from training set\n"
     ]
    },
    {
     "name": "stderr",
     "output_type": "stream",
     "text": [
      "/tmp/ipykernel_1970159/2525160295.py:11: MarkupResemblesLocatorWarning: The input looks more like a filename than markup. You may want to open this file and pass the filehandle into Beautiful Soup.\n",
      "  review_text = BeautifulSoup(review).get_text()\n",
      "/tmp/ipykernel_1970159/2525160295.py:11: MarkupResemblesLocatorWarning: The input looks more like a URL than markup. You may want to use an HTTP client like requests to get the document behind the URL, and feed that document to Beautiful Soup.\n",
      "  review_text = BeautifulSoup(review).get_text()\n"
     ]
    },
    {
     "name": "stdout",
     "output_type": "stream",
     "text": [
      "Parsing sentences from unlabeled set\n"
     ]
    }
   ],
   "source": [
    "sentences = []  # Initialize an empty list of sentences\n",
    "\n",
    "print(\"Parsing sentences from training set\")\n",
    "for review in train[\"review\"]:\n",
    "    sentences += review_to_sentences(review, tokenizer)\n",
    "\n",
    "print(\"Parsing sentences from unlabeled set\")\n",
    "for review in unlabeled_train[\"review\"]:\n",
    "    sentences += review_to_sentences(review, tokenizer)"
   ]
  },
  {
   "cell_type": "markdown",
   "metadata": {},
   "source": [
    "You may get a few warnings from BeautifulSoup about URLs in the sentences. These are nothing to worry about (although you may want to consider removing URLs when cleaning the text). \n",
    "\n",
    "We can take a look at the output to see how this differs from Part 1:"
   ]
  },
  {
   "cell_type": "code",
   "execution_count": 9,
   "metadata": {},
   "outputs": [
    {
     "name": "stdout",
     "output_type": "stream",
     "text": [
      "796172\n",
      "['with', 'all', 'this', 'stuff', 'going', 'down', 'at', 'the', 'moment', 'with', 'mj', 'i', 've', 'started', 'listening', 'to', 'his', 'music', 'watching', 'the', 'odd', 'documentary', 'here', 'and', 'there', 'watched', 'the', 'wiz', 'and', 'watched', 'moonwalker', 'again']\n"
     ]
    }
   ],
   "source": [
    "print(len(sentences))\n",
    "print(sentences[0])"
   ]
  },
  {
   "cell_type": "markdown",
   "metadata": {},
   "source": [
    "A minor detail to note is the difference between the \"+=\" and \"append\" when it comes to Python lists. In many applications the two are interchangeable, but here they are not. If you are appending a list of lists to another list of lists, \"append\" will only append the first list; you need to use \"+=\" in order to join all of the lists at once."
   ]
  },
  {
   "cell_type": "markdown",
   "metadata": {},
   "source": [
    "### Training and Saving Your Model"
   ]
  },
  {
   "cell_type": "markdown",
   "metadata": {},
   "source": [
    "With the list of nicely parsed sentences, we're ready to train the model. There are a number of parameter choices that affect the run time and the quality of the final model that is produced. For details on the algorithms below, see the word2vec API documentation as well as the Google documentation. \n",
    "\n",
    "\n",
    "Architecture: Architecture options are skip-gram (default) or continuous bag of words. We found that skip-gram was very slightly slower but produced better results.\n",
    "\n",
    "Training algorithm: Hierarchical softmax (default) or negative sampling. For us, the default worked well.\n",
    "\n",
    "Downsampling of frequent words: The Google documentation recommends values between .00001 and .001. For us, values closer 0.001 seemed to improve the accuracy of the final model.\n",
    "\n",
    "Word vector dimensionality: More features result in longer runtimes, and often, but not always, result in better models. Reasonable values can be in the tens to hundreds; we used 300.\n",
    "\n",
    "Context / window size: How many words of context should the training algorithm take into account? 10 seems to work well for hierarchical softmax (more is better, up to a point).\n",
    "\n",
    "Worker threads: Number of parallel processes to run. This is computer-specific, but between 4 and 6 should work on most systems.\n",
    "\n",
    "Minimum word count: This helps limit the size of the vocabulary to meaningful words. Any word that does not occur at least this many times across all documents is ignored. Reasonable values could be between 10 and 100. In this case, since each movie occurs 30 times, we set the minimum word count to 40, to avoid attaching too much importance to individual movie titles. This resulted in an overall vocabulary size of around 15,000 words. Higher values also help limit run time.\n",
    "\n",
    "\n",
    "Choosing parameters is not easy, but once we have chosen our parameters, creating a Word2Vec model is straightforward:"
   ]
  },
  {
   "cell_type": "code",
   "execution_count": 11,
   "metadata": {},
   "outputs": [
    {
     "name": "stderr",
     "output_type": "stream",
     "text": [
      "2024-02-12 12:11:59,192 : INFO : collecting all words and their counts\n",
      "2024-02-12 12:11:59,194 : INFO : PROGRESS: at sentence #0, processed 0 words, keeping 0 word types\n",
      "2024-02-12 12:11:59,248 : INFO : PROGRESS: at sentence #10000, processed 227101 words, keeping 18037 word types\n",
      "2024-02-12 12:11:59,313 : INFO : PROGRESS: at sentence #20000, processed 454422 words, keeping 25321 word types\n",
      "2024-02-12 12:11:59,378 : INFO : PROGRESS: at sentence #30000, processed 674816 words, keeping 30471 word types\n"
     ]
    },
    {
     "name": "stdout",
     "output_type": "stream",
     "text": [
      "Training model...\n"
     ]
    },
    {
     "name": "stderr",
     "output_type": "stream",
     "text": [
      "2024-02-12 12:11:59,443 : INFO : PROGRESS: at sentence #40000, processed 902035 words, keeping 34850 word types\n",
      "2024-02-12 12:11:59,508 : INFO : PROGRESS: at sentence #50000, processed 1122616 words, keeping 38319 word types\n",
      "2024-02-12 12:11:59,568 : INFO : PROGRESS: at sentence #60000, processed 1345401 words, keeping 41326 word types\n",
      "2024-02-12 12:11:59,626 : INFO : PROGRESS: at sentence #70000, processed 1569458 words, keeping 43964 word types\n",
      "2024-02-12 12:11:59,685 : INFO : PROGRESS: at sentence #80000, processed 1789870 words, keeping 46393 word types\n",
      "2024-02-12 12:11:59,743 : INFO : PROGRESS: at sentence #90000, processed 2015433 words, keeping 48855 word types\n",
      "2024-02-12 12:11:59,802 : INFO : PROGRESS: at sentence #100000, processed 2238378 words, keeping 50962 word types\n",
      "2024-02-12 12:11:59,858 : INFO : PROGRESS: at sentence #110000, processed 2458629 words, keeping 52867 word types\n",
      "2024-02-12 12:11:59,914 : INFO : PROGRESS: at sentence #120000, processed 2682003 words, keeping 54946 word types\n",
      "2024-02-12 12:11:59,973 : INFO : PROGRESS: at sentence #130000, processed 2909250 words, keeping 56731 word types\n",
      "2024-02-12 12:12:00,032 : INFO : PROGRESS: at sentence #140000, processed 3123021 words, keeping 58266 word types\n",
      "2024-02-12 12:12:00,095 : INFO : PROGRESS: at sentence #150000, processed 3349974 words, keeping 60028 word types\n",
      "2024-02-12 12:12:00,152 : INFO : PROGRESS: at sentence #160000, processed 3573220 words, keeping 61596 word types\n",
      "2024-02-12 12:12:00,209 : INFO : PROGRESS: at sentence #170000, processed 3798039 words, keeping 63100 word types\n",
      "2024-02-12 12:12:00,267 : INFO : PROGRESS: at sentence #180000, processed 4019541 words, keeping 64562 word types\n",
      "2024-02-12 12:12:00,328 : INFO : PROGRESS: at sentence #190000, processed 4245888 words, keeping 65879 word types\n",
      "2024-02-12 12:12:00,395 : INFO : PROGRESS: at sentence #200000, processed 4471813 words, keeping 67200 word types\n",
      "2024-02-12 12:12:00,454 : INFO : PROGRESS: at sentence #210000, processed 4693755 words, keeping 68523 word types\n",
      "2024-02-12 12:12:00,514 : INFO : PROGRESS: at sentence #220000, processed 4920610 words, keeping 69872 word types\n",
      "2024-02-12 12:12:00,572 : INFO : PROGRESS: at sentence #230000, processed 5143744 words, keeping 71141 word types\n",
      "2024-02-12 12:12:00,631 : INFO : PROGRESS: at sentence #240000, processed 5372041 words, keeping 72379 word types\n",
      "2024-02-12 12:12:00,691 : INFO : PROGRESS: at sentence #250000, processed 5587917 words, keeping 73602 word types\n",
      "2024-02-12 12:12:00,750 : INFO : PROGRESS: at sentence #260000, processed 5809032 words, keeping 74766 word types\n",
      "2024-02-12 12:12:00,809 : INFO : PROGRESS: at sentence #270000, processed 6030654 words, keeping 76081 word types\n",
      "2024-02-12 12:12:00,867 : INFO : PROGRESS: at sentence #280000, processed 6257234 words, keeping 77684 word types\n",
      "2024-02-12 12:12:00,925 : INFO : PROGRESS: at sentence #290000, processed 6481092 words, keeping 79177 word types\n",
      "2024-02-12 12:12:00,987 : INFO : PROGRESS: at sentence #300000, processed 6707188 words, keeping 80565 word types\n",
      "2024-02-12 12:12:01,047 : INFO : PROGRESS: at sentence #310000, processed 6932840 words, keeping 81896 word types\n",
      "2024-02-12 12:12:01,109 : INFO : PROGRESS: at sentence #320000, processed 7160456 words, keeping 83293 word types\n",
      "2024-02-12 12:12:01,165 : INFO : PROGRESS: at sentence #330000, processed 7383268 words, keeping 84543 word types\n",
      "2024-02-12 12:12:01,231 : INFO : PROGRESS: at sentence #340000, processed 7614044 words, keeping 85816 word types\n",
      "2024-02-12 12:12:01,290 : INFO : PROGRESS: at sentence #350000, processed 7838323 words, keeping 87006 word types\n",
      "2024-02-12 12:12:01,351 : INFO : PROGRESS: at sentence #360000, processed 8059111 words, keeping 88195 word types\n",
      "2024-02-12 12:12:01,410 : INFO : PROGRESS: at sentence #370000, processed 8287589 words, keeping 89313 word types\n",
      "2024-02-12 12:12:01,470 : INFO : PROGRESS: at sentence #380000, processed 8514968 words, keeping 90520 word types\n",
      "2024-02-12 12:12:01,528 : INFO : PROGRESS: at sentence #390000, processed 8745107 words, keeping 91583 word types\n",
      "2024-02-12 12:12:01,585 : INFO : PROGRESS: at sentence #400000, processed 8969599 words, keeping 92624 word types\n",
      "2024-02-12 12:12:01,648 : INFO : PROGRESS: at sentence #410000, processed 9191556 words, keeping 93624 word types\n",
      "2024-02-12 12:12:01,710 : INFO : PROGRESS: at sentence #420000, processed 9412795 words, keeping 94667 word types\n",
      "2024-02-12 12:12:01,772 : INFO : PROGRESS: at sentence #430000, processed 9642741 words, keeping 95716 word types\n",
      "2024-02-12 12:12:01,830 : INFO : PROGRESS: at sentence #440000, processed 9869703 words, keeping 96685 word types\n",
      "2024-02-12 12:12:01,889 : INFO : PROGRESS: at sentence #450000, processed 10095076 words, keeping 97851 word types\n",
      "2024-02-12 12:12:01,953 : INFO : PROGRESS: at sentence #460000, processed 10329655 words, keeping 98941 word types\n",
      "2024-02-12 12:12:02,011 : INFO : PROGRESS: at sentence #470000, processed 10557257 words, keeping 99795 word types\n",
      "2024-02-12 12:12:02,071 : INFO : PROGRESS: at sentence #480000, processed 10779419 words, keeping 100743 word types\n",
      "2024-02-12 12:12:02,130 : INFO : PROGRESS: at sentence #490000, processed 11006982 words, keeping 101840 word types\n",
      "2024-02-12 12:12:02,187 : INFO : PROGRESS: at sentence #500000, processed 11230148 words, keeping 102759 word types\n",
      "2024-02-12 12:12:02,248 : INFO : PROGRESS: at sentence #510000, processed 11456789 words, keeping 103723 word types\n",
      "2024-02-12 12:12:02,305 : INFO : PROGRESS: at sentence #520000, processed 11681178 words, keeping 104627 word types\n",
      "2024-02-12 12:12:02,363 : INFO : PROGRESS: at sentence #530000, processed 11907773 words, keeping 105476 word types\n",
      "2024-02-12 12:12:02,420 : INFO : PROGRESS: at sentence #540000, processed 12132540 words, keeping 106367 word types\n",
      "2024-02-12 12:12:02,479 : INFO : PROGRESS: at sentence #550000, processed 12358616 words, keeping 107254 word types\n",
      "2024-02-12 12:12:02,535 : INFO : PROGRESS: at sentence #560000, processed 12581979 words, keeping 108145 word types\n",
      "2024-02-12 12:12:02,594 : INFO : PROGRESS: at sentence #570000, processed 12811095 words, keeping 108952 word types\n",
      "2024-02-12 12:12:02,654 : INFO : PROGRESS: at sentence #580000, processed 13033974 words, keeping 109818 word types\n",
      "2024-02-12 12:12:02,715 : INFO : PROGRESS: at sentence #590000, processed 13261079 words, keeping 110709 word types\n",
      "2024-02-12 12:12:02,771 : INFO : PROGRESS: at sentence #600000, processed 13484602 words, keeping 111461 word types\n",
      "2024-02-12 12:12:02,828 : INFO : PROGRESS: at sentence #610000, processed 13707546 words, keeping 112357 word types\n",
      "2024-02-12 12:12:02,886 : INFO : PROGRESS: at sentence #620000, processed 13933358 words, keeping 113139 word types\n",
      "2024-02-12 12:12:02,944 : INFO : PROGRESS: at sentence #630000, processed 14157966 words, keeping 113932 word types\n",
      "2024-02-12 12:12:03,003 : INFO : PROGRESS: at sentence #640000, processed 14381357 words, keeping 114779 word types\n",
      "2024-02-12 12:12:03,063 : INFO : PROGRESS: at sentence #650000, processed 14607567 words, keeping 115569 word types\n",
      "2024-02-12 12:12:03,124 : INFO : PROGRESS: at sentence #660000, processed 14831458 words, keeping 116340 word types\n",
      "2024-02-12 12:12:03,183 : INFO : PROGRESS: at sentence #670000, processed 15057876 words, keeping 117086 word types\n",
      "2024-02-12 12:12:03,240 : INFO : PROGRESS: at sentence #680000, processed 15283254 words, keeping 117818 word types\n",
      "2024-02-12 12:12:03,300 : INFO : PROGRESS: at sentence #690000, processed 15506638 words, keeping 118606 word types\n",
      "2024-02-12 12:12:03,373 : INFO : PROGRESS: at sentence #700000, processed 15736787 words, keeping 119427 word types\n",
      "2024-02-12 12:12:03,431 : INFO : PROGRESS: at sentence #710000, processed 15958178 words, keeping 120076 word types\n",
      "2024-02-12 12:12:03,490 : INFO : PROGRESS: at sentence #720000, processed 16186985 words, keeping 120727 word types\n",
      "2024-02-12 12:12:03,548 : INFO : PROGRESS: at sentence #730000, processed 16411682 words, keeping 121471 word types\n",
      "2024-02-12 12:12:03,605 : INFO : PROGRESS: at sentence #740000, processed 16635389 words, keeping 122192 word types\n",
      "2024-02-12 12:12:03,661 : INFO : PROGRESS: at sentence #750000, processed 16856131 words, keeping 122862 word types\n",
      "2024-02-12 12:12:03,719 : INFO : PROGRESS: at sentence #760000, processed 17076001 words, keeping 123497 word types\n",
      "2024-02-12 12:12:03,778 : INFO : PROGRESS: at sentence #770000, processed 17303464 words, keeping 124279 word types\n",
      "2024-02-12 12:12:03,838 : INFO : PROGRESS: at sentence #780000, processed 17534423 words, keeping 125008 word types\n",
      "2024-02-12 12:12:03,898 : INFO : PROGRESS: at sentence #790000, processed 17762948 words, keeping 125706 word types\n",
      "2024-02-12 12:12:03,936 : INFO : collected 126187 word types from a corpus of 17901872 raw words and 796172 sentences\n",
      "2024-02-12 12:12:03,937 : INFO : Creating a fresh vocabulary\n",
      "2024-02-12 12:12:04,073 : INFO : Word2Vec lifecycle event {'msg': 'effective_min_count=40 retains 16731 unique words (13.26% of original 126187, drops 109456)', 'datetime': '2024-02-12T12:12:04.073210', 'gensim': '4.3.0', 'python': '3.10.13 (main, Sep 11 2023, 13:44:35) [GCC 11.2.0]', 'platform': 'Linux-5.4.0-167-generic-x86_64-with-glibc2.31', 'event': 'prepare_vocab'}\n",
      "2024-02-12 12:12:04,074 : INFO : Word2Vec lifecycle event {'msg': 'effective_min_count=40 leaves 17335706 word corpus (96.84% of original 17901872, drops 566166)', 'datetime': '2024-02-12T12:12:04.074045', 'gensim': '4.3.0', 'python': '3.10.13 (main, Sep 11 2023, 13:44:35) [GCC 11.2.0]', 'platform': 'Linux-5.4.0-167-generic-x86_64-with-glibc2.31', 'event': 'prepare_vocab'}\n",
      "2024-02-12 12:12:04,231 : INFO : deleting the raw counts dictionary of 126187 items\n",
      "2024-02-12 12:12:04,235 : INFO : sample=0.001 downsamples 48 most-common words\n",
      "2024-02-12 12:12:04,236 : INFO : Word2Vec lifecycle event {'msg': 'downsampling leaves estimated 12862858.688749142 word corpus (74.2%% of prior 17335706)', 'datetime': '2024-02-12T12:12:04.236429', 'gensim': '4.3.0', 'python': '3.10.13 (main, Sep 11 2023, 13:44:35) [GCC 11.2.0]', 'platform': 'Linux-5.4.0-167-generic-x86_64-with-glibc2.31', 'event': 'prepare_vocab'}\n",
      "2024-02-12 12:12:04,455 : INFO : estimated required memory for 16731 words and 300 dimensions: 48519900 bytes\n",
      "2024-02-12 12:12:04,456 : INFO : resetting layer weights\n",
      "2024-02-12 12:12:04,486 : INFO : Word2Vec lifecycle event {'update': False, 'trim_rule': 'None', 'datetime': '2024-02-12T12:12:04.486485', 'gensim': '4.3.0', 'python': '3.10.13 (main, Sep 11 2023, 13:44:35) [GCC 11.2.0]', 'platform': 'Linux-5.4.0-167-generic-x86_64-with-glibc2.31', 'event': 'build_vocab'}\n",
      "2024-02-12 12:12:04,487 : INFO : Word2Vec lifecycle event {'msg': 'training model with 4 workers on 16731 vocabulary and 300 features, using sg=0 hs=0 sample=0.001 negative=5 window=10 shrink_windows=True', 'datetime': '2024-02-12T12:12:04.487388', 'gensim': '4.3.0', 'python': '3.10.13 (main, Sep 11 2023, 13:44:35) [GCC 11.2.0]', 'platform': 'Linux-5.4.0-167-generic-x86_64-with-glibc2.31', 'event': 'train'}\n",
      "2024-02-12 12:12:05,494 : INFO : EPOCH 0 - PROGRESS: at 6.52% examples, 836980 words/s, in_qsize 8, out_qsize 0\n",
      "2024-02-12 12:12:06,507 : INFO : EPOCH 0 - PROGRESS: at 12.85% examples, 815192 words/s, in_qsize 7, out_qsize 0\n",
      "2024-02-12 12:12:07,516 : INFO : EPOCH 0 - PROGRESS: at 19.54% examples, 825306 words/s, in_qsize 8, out_qsize 0\n",
      "2024-02-12 12:12:08,518 : INFO : EPOCH 0 - PROGRESS: at 26.30% examples, 835567 words/s, in_qsize 8, out_qsize 0\n",
      "2024-02-12 12:12:09,521 : INFO : EPOCH 0 - PROGRESS: at 32.78% examples, 832793 words/s, in_qsize 7, out_qsize 0\n",
      "2024-02-12 12:12:10,524 : INFO : EPOCH 0 - PROGRESS: at 39.70% examples, 841831 words/s, in_qsize 7, out_qsize 0\n",
      "2024-02-12 12:12:11,524 : INFO : EPOCH 0 - PROGRESS: at 46.29% examples, 843376 words/s, in_qsize 7, out_qsize 0\n",
      "2024-02-12 12:12:12,525 : INFO : EPOCH 0 - PROGRESS: at 53.19% examples, 849078 words/s, in_qsize 7, out_qsize 0\n",
      "2024-02-12 12:12:13,535 : INFO : EPOCH 0 - PROGRESS: at 59.83% examples, 850118 words/s, in_qsize 7, out_qsize 0\n",
      "2024-02-12 12:12:14,536 : INFO : EPOCH 0 - PROGRESS: at 67.01% examples, 857576 words/s, in_qsize 7, out_qsize 0\n",
      "2024-02-12 12:12:15,540 : INFO : EPOCH 0 - PROGRESS: at 73.92% examples, 860230 words/s, in_qsize 7, out_qsize 0\n",
      "2024-02-12 12:12:16,542 : INFO : EPOCH 0 - PROGRESS: at 80.29% examples, 856577 words/s, in_qsize 7, out_qsize 0\n",
      "2024-02-12 12:12:17,544 : INFO : EPOCH 0 - PROGRESS: at 87.13% examples, 858424 words/s, in_qsize 7, out_qsize 0\n",
      "2024-02-12 12:12:18,546 : INFO : EPOCH 0 - PROGRESS: at 93.76% examples, 857991 words/s, in_qsize 7, out_qsize 0\n",
      "2024-02-12 12:12:19,486 : INFO : EPOCH 0: training on 17901872 raw words (12865287 effective words) took 15.0s, 858067 effective words/s\n",
      "2024-02-12 12:12:20,492 : INFO : EPOCH 1 - PROGRESS: at 6.42% examples, 824427 words/s, in_qsize 7, out_qsize 0\n",
      "2024-02-12 12:12:21,496 : INFO : EPOCH 1 - PROGRESS: at 13.06% examples, 833651 words/s, in_qsize 7, out_qsize 0\n",
      "2024-02-12 12:12:22,496 : INFO : EPOCH 1 - PROGRESS: at 20.10% examples, 854297 words/s, in_qsize 7, out_qsize 0\n",
      "2024-02-12 12:12:23,500 : INFO : EPOCH 1 - PROGRESS: at 26.86% examples, 856946 words/s, in_qsize 7, out_qsize 0\n",
      "2024-02-12 12:12:24,500 : INFO : EPOCH 1 - PROGRESS: at 33.53% examples, 854530 words/s, in_qsize 7, out_qsize 0\n",
      "2024-02-12 12:12:25,511 : INFO : EPOCH 1 - PROGRESS: at 40.17% examples, 854103 words/s, in_qsize 7, out_qsize 0\n",
      "2024-02-12 12:12:26,517 : INFO : EPOCH 1 - PROGRESS: at 47.11% examples, 859207 words/s, in_qsize 7, out_qsize 0\n",
      "2024-02-12 12:12:27,521 : INFO : EPOCH 1 - PROGRESS: at 53.24% examples, 850127 words/s, in_qsize 7, out_qsize 0\n",
      "2024-02-12 12:12:28,528 : INFO : EPOCH 1 - PROGRESS: at 59.60% examples, 847418 words/s, in_qsize 7, out_qsize 0\n",
      "2024-02-12 12:12:29,532 : INFO : EPOCH 1 - PROGRESS: at 65.69% examples, 840455 words/s, in_qsize 7, out_qsize 0\n",
      "2024-02-12 12:12:30,538 : INFO : EPOCH 1 - PROGRESS: at 72.34% examples, 841803 words/s, in_qsize 7, out_qsize 0\n",
      "2024-02-12 12:12:31,543 : INFO : EPOCH 1 - PROGRESS: at 78.88% examples, 841299 words/s, in_qsize 7, out_qsize 0\n",
      "2024-02-12 12:12:32,548 : INFO : EPOCH 1 - PROGRESS: at 85.58% examples, 842536 words/s, in_qsize 7, out_qsize 0\n",
      "2024-02-12 12:12:33,554 : INFO : EPOCH 1 - PROGRESS: at 92.23% examples, 843420 words/s, in_qsize 7, out_qsize 0\n",
      "2024-02-12 12:12:34,566 : INFO : EPOCH 1 - PROGRESS: at 99.19% examples, 846288 words/s, in_qsize 7, out_qsize 0\n",
      "2024-02-12 12:12:34,679 : INFO : EPOCH 1: training on 17901872 raw words (12861347 effective words) took 15.2s, 846782 effective words/s\n",
      "2024-02-12 12:12:35,689 : INFO : EPOCH 2 - PROGRESS: at 7.15% examples, 914341 words/s, in_qsize 7, out_qsize 0\n",
      "2024-02-12 12:12:36,692 : INFO : EPOCH 2 - PROGRESS: at 13.85% examples, 883509 words/s, in_qsize 7, out_qsize 0\n",
      "2024-02-12 12:12:37,712 : INFO : EPOCH 2 - PROGRESS: at 20.82% examples, 879394 words/s, in_qsize 7, out_qsize 0\n",
      "2024-02-12 12:12:38,720 : INFO : EPOCH 2 - PROGRESS: at 27.37% examples, 867817 words/s, in_qsize 7, out_qsize 0\n",
      "2024-02-12 12:12:39,725 : INFO : EPOCH 2 - PROGRESS: at 33.96% examples, 861114 words/s, in_qsize 7, out_qsize 0\n",
      "2024-02-12 12:12:40,726 : INFO : EPOCH 2 - PROGRESS: at 40.85% examples, 865735 words/s, in_qsize 7, out_qsize 0\n",
      "2024-02-12 12:12:41,731 : INFO : EPOCH 2 - PROGRESS: at 47.34% examples, 861330 words/s, in_qsize 8, out_qsize 0\n",
      "2024-02-12 12:12:42,734 : INFO : EPOCH 2 - PROGRESS: at 53.69% examples, 855613 words/s, in_qsize 7, out_qsize 0\n",
      "2024-02-12 12:12:43,749 : INFO : EPOCH 2 - PROGRESS: at 60.23% examples, 853755 words/s, in_qsize 7, out_qsize 0\n",
      "2024-02-12 12:12:44,756 : INFO : EPOCH 2 - PROGRESS: at 66.90% examples, 853932 words/s, in_qsize 7, out_qsize 0\n",
      "2024-02-12 12:12:45,768 : INFO : EPOCH 2 - PROGRESS: at 73.31% examples, 850427 words/s, in_qsize 7, out_qsize 0\n",
      "2024-02-12 12:12:46,776 : INFO : EPOCH 2 - PROGRESS: at 80.01% examples, 850668 words/s, in_qsize 7, out_qsize 0\n",
      "2024-02-12 12:12:47,793 : INFO : EPOCH 2 - PROGRESS: at 86.59% examples, 849289 words/s, in_qsize 7, out_qsize 0\n",
      "2024-02-12 12:12:48,800 : INFO : EPOCH 2 - PROGRESS: at 92.41% examples, 842012 words/s, in_qsize 7, out_qsize 0\n",
      "2024-02-12 12:12:49,810 : INFO : EPOCH 2 - PROGRESS: at 99.19% examples, 843673 words/s, in_qsize 7, out_qsize 0\n",
      "2024-02-12 12:12:49,931 : INFO : EPOCH 2: training on 17901872 raw words (12864009 effective words) took 15.2s, 843757 effective words/s\n",
      "2024-02-12 12:12:50,948 : INFO : EPOCH 3 - PROGRESS: at 6.70% examples, 850294 words/s, in_qsize 8, out_qsize 1\n",
      "2024-02-12 12:12:51,951 : INFO : EPOCH 3 - PROGRESS: at 13.17% examples, 836641 words/s, in_qsize 7, out_qsize 0\n",
      "2024-02-12 12:12:52,970 : INFO : EPOCH 3 - PROGRESS: at 20.10% examples, 846250 words/s, in_qsize 7, out_qsize 0\n",
      "2024-02-12 12:12:53,970 : INFO : EPOCH 3 - PROGRESS: at 27.10% examples, 858689 words/s, in_qsize 7, out_qsize 0\n",
      "2024-02-12 12:12:54,980 : INFO : EPOCH 3 - PROGRESS: at 34.35% examples, 870190 words/s, in_qsize 7, out_qsize 0\n",
      "2024-02-12 12:12:55,983 : INFO : EPOCH 3 - PROGRESS: at 41.41% examples, 876382 words/s, in_qsize 8, out_qsize 0\n",
      "2024-02-12 12:12:56,984 : INFO : EPOCH 3 - PROGRESS: at 48.37% examples, 880069 words/s, in_qsize 7, out_qsize 0\n",
      "2024-02-12 12:12:57,992 : INFO : EPOCH 3 - PROGRESS: at 55.62% examples, 885745 words/s, in_qsize 8, out_qsize 0\n",
      "2024-02-12 12:12:59,000 : INFO : EPOCH 3 - PROGRESS: at 62.75% examples, 889178 words/s, in_qsize 7, out_qsize 0\n",
      "2024-02-12 12:13:00,000 : INFO : EPOCH 3 - PROGRESS: at 69.80% examples, 891354 words/s, in_qsize 7, out_qsize 0\n",
      "2024-02-12 12:13:01,007 : INFO : EPOCH 3 - PROGRESS: at 77.10% examples, 895175 words/s, in_qsize 7, out_qsize 0\n",
      "2024-02-12 12:13:02,015 : INFO : EPOCH 3 - PROGRESS: at 83.96% examples, 893506 words/s, in_qsize 7, out_qsize 0\n",
      "2024-02-12 12:13:03,018 : INFO : EPOCH 3 - PROGRESS: at 90.95% examples, 894041 words/s, in_qsize 7, out_qsize 0\n",
      "2024-02-12 12:13:04,025 : INFO : EPOCH 3 - PROGRESS: at 97.87% examples, 893325 words/s, in_qsize 7, out_qsize 0\n",
      "2024-02-12 12:13:04,346 : INFO : EPOCH 3: training on 17901872 raw words (12861029 effective words) took 14.4s, 892517 effective words/s\n",
      "2024-02-12 12:13:05,352 : INFO : EPOCH 4 - PROGRESS: at 7.09% examples, 910113 words/s, in_qsize 7, out_qsize 0\n",
      "2024-02-12 12:13:06,358 : INFO : EPOCH 4 - PROGRESS: at 14.42% examples, 919004 words/s, in_qsize 7, out_qsize 0\n",
      "2024-02-12 12:13:07,372 : INFO : EPOCH 4 - PROGRESS: at 21.67% examples, 916962 words/s, in_qsize 7, out_qsize 0\n",
      "2024-02-12 12:13:08,373 : INFO : EPOCH 4 - PROGRESS: at 28.76% examples, 915115 words/s, in_qsize 7, out_qsize 0\n",
      "2024-02-12 12:13:09,377 : INFO : EPOCH 4 - PROGRESS: at 36.13% examples, 919061 words/s, in_qsize 7, out_qsize 0\n",
      "2024-02-12 12:13:10,379 : INFO : EPOCH 4 - PROGRESS: at 43.28% examples, 919923 words/s, in_qsize 7, out_qsize 0\n",
      "2024-02-12 12:13:11,381 : INFO : EPOCH 4 - PROGRESS: at 50.55% examples, 922530 words/s, in_qsize 7, out_qsize 0\n",
      "2024-02-12 12:13:12,387 : INFO : EPOCH 4 - PROGRESS: at 57.74% examples, 922906 words/s, in_qsize 7, out_qsize 0\n",
      "2024-02-12 12:13:13,390 : INFO : EPOCH 4 - PROGRESS: at 64.80% examples, 921274 words/s, in_qsize 7, out_qsize 0\n",
      "2024-02-12 12:13:14,390 : INFO : EPOCH 4 - PROGRESS: at 71.79% examples, 919547 words/s, in_qsize 7, out_qsize 0\n",
      "2024-02-12 12:13:15,392 : INFO : EPOCH 4 - PROGRESS: at 78.78% examples, 917334 words/s, in_qsize 7, out_qsize 0\n",
      "2024-02-12 12:13:16,407 : INFO : EPOCH 4 - PROGRESS: at 86.08% examples, 918091 words/s, in_qsize 7, out_qsize 0\n",
      "2024-02-12 12:13:17,413 : INFO : EPOCH 4 - PROGRESS: at 92.96% examples, 915497 words/s, in_qsize 7, out_qsize 0\n",
      "2024-02-12 12:13:18,428 : INFO : EPOCH 4 - PROGRESS: at 99.36% examples, 908089 words/s, in_qsize 7, out_qsize 0\n",
      "2024-02-12 12:13:18,507 : INFO : EPOCH 4: training on 17901872 raw words (12864299 effective words) took 14.2s, 908773 effective words/s\n",
      "2024-02-12 12:13:18,508 : INFO : Word2Vec lifecycle event {'msg': 'training on 89509360 raw words (64315971 effective words) took 74.0s, 868894 effective words/s', 'datetime': '2024-02-12T12:13:18.508781', 'gensim': '4.3.0', 'python': '3.10.13 (main, Sep 11 2023, 13:44:35) [GCC 11.2.0]', 'platform': 'Linux-5.4.0-167-generic-x86_64-with-glibc2.31', 'event': 'train'}\n",
      "2024-02-12 12:13:18,509 : INFO : Word2Vec lifecycle event {'params': 'Word2Vec<vocab=16731, vector_size=300, alpha=0.025>', 'datetime': '2024-02-12T12:13:18.509323', 'gensim': '4.3.0', 'python': '3.10.13 (main, Sep 11 2023, 13:44:35) [GCC 11.2.0]', 'platform': 'Linux-5.4.0-167-generic-x86_64-with-glibc2.31', 'event': 'created'}\n",
      "/tmp/ipykernel_1970159/3799526275.py:23: DeprecationWarning: Call to deprecated `init_sims` (Gensim 4.0.0 implemented internal optimizations that make calls to init_sims() unnecessary. init_sims() is now obsoleted and will be completely removed in future versions. See https://github.com/RaRe-Technologies/gensim/wiki/Migrating-from-Gensim-3.x-to-4).\n",
      "  model.init_sims(replace=True)\n",
      "2024-02-12 12:13:18,519 : WARNING : destructive init_sims(replace=True) deprecated & no longer required for space-efficiency\n",
      "2024-02-12 12:13:18,527 : INFO : Word2Vec lifecycle event {'fname_or_handle': '300features_40minwords_10context', 'separately': 'None', 'sep_limit': 10485760, 'ignore': frozenset(), 'datetime': '2024-02-12T12:13:18.526895', 'gensim': '4.3.0', 'python': '3.10.13 (main, Sep 11 2023, 13:44:35) [GCC 11.2.0]', 'platform': 'Linux-5.4.0-167-generic-x86_64-with-glibc2.31', 'event': 'saving'}\n",
      "2024-02-12 12:13:18,528 : INFO : not storing attribute cum_table\n",
      "2024-02-12 12:13:18,588 : INFO : saved 300features_40minwords_10context\n"
     ]
    }
   ],
   "source": [
    "# Import the built-in logging module and configure it so that Word2Vec \n",
    "# creates nice output messages\n",
    "import logging\n",
    "logging.basicConfig(format='%(asctime)s : %(levelname)s : %(message)s',\\\n",
    "    level=logging.INFO)\n",
    "\n",
    "# Set values for various parameters\n",
    "num_features = 300    # Word vector dimensionality                      \n",
    "min_word_count = 40   # Minimum word count                        \n",
    "num_workers = 4       # Number of threads to run in parallel\n",
    "context = 10          # Context window size                                                                                    \n",
    "downsampling = 1e-3   # Downsample setting for frequent words\n",
    "\n",
    "# Initialize and train the model (this will take some time)\n",
    "from gensim.models import word2vec\n",
    "print(\"Training model...\")\n",
    "model = word2vec.Word2Vec(sentences, workers=num_workers, \\\n",
    "            vector_size=num_features, min_count = min_word_count, \\\n",
    "            window = context, sample = downsampling)\n",
    "\n",
    "# If you don't plan to train the model any further, calling \n",
    "# init_sims will make the model much more memory-efficient.\n",
    "model.init_sims(replace=True)\n",
    "\n",
    "# It can be helpful to create a meaningful model name and \n",
    "# save the model for later use. You can load it later using Word2Vec.load()\n",
    "model_name = \"300features_40minwords_10context\"\n",
    "model.save(model_name)"
   ]
  },
  {
   "cell_type": "markdown",
   "metadata": {},
   "source": [
    "On a dual-core Macbook Pro, this took less than 15 minutes to run using 4 worker threads. However, it will vary depending on your computer. Fortunately, the logging functionality prints informative messages.\n",
    "\n",
    "If you are on a Mac or Linux system, you can use the \"top\" command from within Terminal (not from within Python) to see if your system is successfully parallelizing while the model is training. Type"
   ]
  },
  {
   "cell_type": "markdown",
   "metadata": {},
   "source": [
    "### Exploring the Model Results"
   ]
  },
  {
   "cell_type": "markdown",
   "metadata": {},
   "source": [
    "Congratulations on making it successfully through everything so far! Let's take a look at the model we created out of our 75,000 training reviews.\n",
    "\n",
    "The \"doesnt_match\" function will try to deduce which word in a set is most dissimilar from the others:"
   ]
  },
  {
   "cell_type": "code",
   "execution_count": 13,
   "metadata": {},
   "outputs": [
    {
     "name": "stdout",
     "output_type": "stream",
     "text": [
      "kitchen\n"
     ]
    }
   ],
   "source": [
    "print(model.wv.doesnt_match(\"man woman child kitchen\".split()))"
   ]
  },
  {
   "cell_type": "markdown",
   "metadata": {},
   "source": [
    "Our model is capable of distinguishing differences in meaning! It knows that men, women and children are more similar to each other than they are to kitchens. More exploration shows that the model is sensitive to more subtle differences in meaning, such as differences between countries and cities:"
   ]
  },
  {
   "cell_type": "code",
   "execution_count": 14,
   "metadata": {},
   "outputs": [
    {
     "name": "stdout",
     "output_type": "stream",
     "text": [
      "berlin\n"
     ]
    }
   ],
   "source": [
    "print(model.wv.doesnt_match(\"france england germany berlin\".split()))"
   ]
  },
  {
   "cell_type": "markdown",
   "metadata": {},
   "source": [
    "We can also use the \"most_similar\" function to get insight into the model's word clusters:"
   ]
  },
  {
   "cell_type": "code",
   "execution_count": 15,
   "metadata": {},
   "outputs": [
    {
     "name": "stdout",
     "output_type": "stream",
     "text": [
      "[('woman', 0.626422643661499), ('lady', 0.5877063274383545), ('lad', 0.5687851905822754), ('monk', 0.5351817607879639), ('guy', 0.5246669054031372), ('chap', 0.5155174732208252), ('millionaire', 0.5149487257003784), ('businessman', 0.5100465416908264), ('person', 0.5081650018692017), ('men', 0.502873420715332)]\n"
     ]
    }
   ],
   "source": [
    "print(model.wv.most_similar(\"man\"))"
   ]
  },
  {
   "cell_type": "code",
   "execution_count": 17,
   "metadata": {},
   "outputs": [
    {
     "name": "stdout",
     "output_type": "stream",
     "text": [
      "[('princess', 0.6573528051376343), ('belle', 0.6101576685905457), ('bride', 0.5985974073410034), ('showgirl', 0.5914508104324341), ('victoria', 0.5900877118110657), ('maid', 0.5850200653076172), ('countess', 0.5840523838996887), ('maria', 0.5831098556518555), ('eva', 0.5755223035812378), ('nun', 0.5716513991355896)]\n"
     ]
    }
   ],
   "source": [
    "print(model.wv.most_similar(\"queen\"))"
   ]
  },
  {
   "cell_type": "markdown",
   "metadata": {},
   "source": [
    "Given our particular training set, it's not surprising that \"Latifah\" is a top hit for similarity with \"Queen\".\n",
    "\n",
    "Or, more relevant for sentiment analysis:"
   ]
  },
  {
   "cell_type": "code",
   "execution_count": 18,
   "metadata": {},
   "outputs": [
    {
     "name": "stdout",
     "output_type": "stream",
     "text": [
      "[('terrible', 0.7664622068405151), ('atrocious', 0.7498943209648132), ('horrible', 0.733307957649231), ('abysmal', 0.7210433483123779), ('dreadful', 0.7166286706924438), ('horrendous', 0.7070831656455994), ('appalling', 0.6744402050971985), ('horrid', 0.6675799489021301), ('amateurish', 0.6238537430763245), ('laughable', 0.6207804679870605)]\n"
     ]
    }
   ],
   "source": [
    "print(model.wv.most_similar(\"awful\"))"
   ]
  },
  {
   "cell_type": "markdown",
   "metadata": {},
   "source": [
    "So it seems we have a reasonably good model for semantic meaning - at least as good as Bag of Words. But how can we use these fancy distributed word vectors for supervised learning? The next section takes a stab at that."
   ]
  }
 ],
 "metadata": {
  "kernelspec": {
   "display_name": "all",
   "language": "python",
   "name": "python3"
  },
  "language_info": {
   "codemirror_mode": {
    "name": "ipython",
    "version": 3
   },
   "file_extension": ".py",
   "mimetype": "text/x-python",
   "name": "python",
   "nbconvert_exporter": "python",
   "pygments_lexer": "ipython3",
   "version": "3.10.13"
  }
 },
 "nbformat": 4,
 "nbformat_minor": 2
}
